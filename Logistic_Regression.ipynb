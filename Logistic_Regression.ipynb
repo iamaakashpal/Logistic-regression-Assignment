{
 "cells": [
  {
   "cell_type": "code",
   "execution_count": null,
   "metadata": {},
   "outputs": [],
   "source": [
    "import pandas as pd\n",
    "import numpy as np\n",
    "import matplotlib.pyplot as plt\n",
    "import seaborn as sns"
   ]
  }
 ],
 "metadata": {
  "kernelspec": {
   "display_name": "Python 3.7.0",
   "language": "python",
   "name": "python3"
  },
  "language_info": {
   "name": "python",
   "version": "3.7.0"
  },
  "orig_nbformat": 4,
  "vscode": {
   "interpreter": {
    "hash": "dbe4e26a7d29b8ae666490e83980c77d3c710cf3cfb606f661121d862d3d44ca"
   }
  }
 },
 "nbformat": 4,
 "nbformat_minor": 2
}
